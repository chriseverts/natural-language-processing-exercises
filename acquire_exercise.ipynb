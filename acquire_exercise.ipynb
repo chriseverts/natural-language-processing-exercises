{
 "cells": [
  {
   "cell_type": "markdown",
   "id": "6bb88919-3abf-4f92-888b-03b996146016",
   "metadata": {},
   "source": [
    "# Acquire"
   ]
  },
  {
   "cell_type": "code",
   "execution_count": 1,
   "id": "3b83952b-bdd7-4b21-a602-e41b41e54f64",
   "metadata": {},
   "outputs": [],
   "source": [
    "import requests\n",
    "from bs4 import BeautifulSoup\n",
    "import pandas as pd\n",
    "from time import strftime"
   ]
  },
  {
   "cell_type": "markdown",
   "id": "f97ae00d-9f15-400c-be1a-7650696c41be",
   "metadata": {},
   "source": [
    "## Codeup Blog Articles"
   ]
  },
  {
   "cell_type": "code",
   "execution_count": 2,
   "id": "43e0a6bc-27a8-4afa-8e4e-b093442c2461",
   "metadata": {},
   "outputs": [],
   "source": [
    "def get_front_page_links():\n",
    "    \"\"\"\n",
    "    Short function to hit the codeup blog landing page and return a list of all the urls to further blog posts on the\n",
    "    page.\n",
    "    \"\"\"\n",
    "    response = requests.get(\"https://codeup.com/blog/\", headers={\"user-agent\": \"Codeup DS\"})\n",
    "    soup = BeautifulSoup(response.text)\n",
    "    links = [link.attrs[\"href\"] for link in soup.select(\".more-link\")]\n",
    "    return links\n",
    "\n",
    "def parse_codeup_blog_article(url):\n",
    "    \"Given a blog article url, extract the relevant information and return it as a dictionary.\"\n",
    "    response = requests.get(url, headers={\"user-agent\": \"Codeup DS\"})\n",
    "    soup = BeautifulSoup(response.text)\n",
    "    return {\n",
    "        \"title\": soup.select_one(\".entry-title\").text,\n",
    "        \"published\": soup.select_one(\".published\").text,\n",
    "        \"content\": soup.select_one(\".et_pb_post_content\").text.strip(),\n",
    "    }\n",
    "\n",
    "\n",
    "def get_blog_articles():\n",
    "    \"Returns a dataframe where each row is a blog post from the codeup blog landing page.\"\n",
    "    links = get_front_page_links()\n",
    "    df = pd.DataFrame([parse_codeup_blog_article(link) for link in links])\n",
    "    return df"
   ]
  },
  {
   "cell_type": "code",
   "execution_count": 3,
   "id": "13a60521-aed5-4c8a-8915-e22f7110c61c",
   "metadata": {},
   "outputs": [],
   "source": [
    "today = strftime('%Y-%m-%d')\n",
    "get_blog_articles().to_json(f'codeup_blog_{today}.json')"
   ]
  },
  {
   "cell_type": "markdown",
   "id": "092e768a-fea9-405d-8c22-97ca1bcd459e",
   "metadata": {},
   "source": [
    "## InShorts"
   ]
  },
  {
   "cell_type": "code",
   "execution_count": 4,
   "id": "579e2ddc-a0ab-4f44-b7fc-6af50f1e700e",
   "metadata": {},
   "outputs": [],
   "source": [
    "def parse_news_card(card):\n",
    "    'Given a news card object, returns a dictionary of the relevant information.'\n",
    "    card_title = card.select_one('.news-card-title')\n",
    "    output = {}\n",
    "    output['title'] = card_title.find('a').text.strip()\n",
    "    output['published'] = card_title.select_one('.time').attrs['content']\n",
    "    output['author'] = card_title.select_one('.author').text\n",
    "    output['content'] = card.select_one('.news-card-content').div.text.strip()\n",
    "    return output\n",
    "\n",
    "\n",
    "def parse_inshorts_page(url):\n",
    "    '''Given a url, returns a dataframe where each row is a news article from the url.\n",
    "    Infers the category from the last section of the url.'''\n",
    "    category = url.split('/')[-1]\n",
    "    response = requests.get(url, headers={'user-agent': 'Codeup DS'})\n",
    "    soup = BeautifulSoup(response.text)\n",
    "    cards = soup.select('.news-card')\n",
    "    df = pd.DataFrame([parse_news_card(card) for card in cards])\n",
    "    df['category'] = category\n",
    "    return df\n",
    "\n",
    "def get_inshorts_articles():\n",
    "    '''\n",
    "    Returns a dataframe of news articles from the business, sports, technology, and entertainment sections of\n",
    "    inshorts.\n",
    "    '''\n",
    "    url = 'https://inshorts.com/en/read/{}'\n",
    "    categories = ['business', 'sports', 'technology', 'entertainment']\n",
    "    df = pd.concat([parse_inshorts_page(url.format(cat)) for cat in categories])\n",
    "    df = df.reset_index(drop=True)\n",
    "    return df"
   ]
  },
  {
   "cell_type": "code",
   "execution_count": 5,
   "id": "c60b5ee8-a2ed-4d94-81dc-d50c9c1d55d5",
   "metadata": {},
   "outputs": [],
   "source": [
    "today = strftime('%Y-%m-%d')\n",
    "get_inshorts_articles().to_json(f'inshorts-{today}.json')"
   ]
  }
 ],
 "metadata": {
  "kernelspec": {
   "display_name": "Python 3",
   "language": "python",
   "name": "python3"
  },
  "language_info": {
   "codemirror_mode": {
    "name": "ipython",
    "version": 3
   },
   "file_extension": ".py",
   "mimetype": "text/x-python",
   "name": "python",
   "nbconvert_exporter": "python",
   "pygments_lexer": "ipython3",
   "version": "3.8.8"
  }
 },
 "nbformat": 4,
 "nbformat_minor": 5
}
