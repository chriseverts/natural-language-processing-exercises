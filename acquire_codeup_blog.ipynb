{
 "cells": [
  {
   "cell_type": "code",
   "execution_count": 27,
   "id": "ec6f77be",
   "metadata": {},
   "outputs": [],
   "source": [
    "from requests import get\n",
    "from bs4 import BeautifulSoup\n",
    "import os\n",
    "from acquire import get_codeup_blog"
   ]
  },
  {
   "cell_type": "markdown",
   "id": "ad125f65",
   "metadata": {},
   "source": [
    " a.) Scrape the article text from the following pages:\n",
    "\n",
    "https://codeup.com/codeups-data-science-career-accelerator-is-here/"
   ]
  },
  {
   "cell_type": "code",
   "execution_count": 31,
   "id": "50511f07",
   "metadata": {},
   "outputs": [],
   "source": [
    "url = 'https://codeup.com/blog/'\n",
    "headers = {'User-Agent':'Codeup Data Science'} # Some websites don't accept the pyhon-requests default user-agent\n",
    "response = get(url, headers=headers)"
   ]
  },
  {
   "cell_type": "code",
   "execution_count": 32,
   "id": "3aac59e0",
   "metadata": {},
   "outputs": [
    {
     "data": {
      "text/plain": [
       "<Response [200]>"
      ]
     },
     "execution_count": 32,
     "metadata": {},
     "output_type": "execute_result"
    }
   ],
   "source": [
    "response"
   ]
  },
  {
   "cell_type": "code",
   "execution_count": 33,
   "id": "39c98827",
   "metadata": {},
   "outputs": [
    {
     "data": {
      "text/plain": [
       "'<!DOCTYPE html>\\n<html lang=\"en-US\">\\n<head>\\n\\t<meta charset=\"UTF-8\" />\\n<meta http-equiv=\"X-UA-Compatible\" content=\"IE=edge\">\\n\\t<link rel=\"pingback\" href=\"https://codeup.com/xmlrpc.php\" />\\n\\n\\t<script type='"
      ]
     },
     "execution_count": 33,
     "metadata": {},
     "output_type": "execute_result"
    }
   ],
   "source": [
    "response.text[:200]"
   ]
  },
  {
   "cell_type": "code",
   "execution_count": 34,
   "id": "359b04d9",
   "metadata": {},
   "outputs": [],
   "source": [
    "soup = BeautifulSoup(response.content, 'html.parser')"
   ]
  },
  {
   "cell_type": "code",
   "execution_count": 35,
   "id": "716aa282",
   "metadata": {},
   "outputs": [
    {
     "data": {
      "text/plain": [
       "'\\n\\n\\n\\n\\n\\n\\nCodeup News & Articles\\n\\n\\n\\nSearch for:\\n\\n\\n\\n\\n\\n\\n\\n\\n\\n\\n\\n\\n\\n\\n\\n\\n\\nIs Codeup the Best Bootcamp in San Antonio…or the World?\\n\\nLooking for the best data science bootcamp in the world? Or how about the best coding bootcamp in San Antonio? If you’re reading this, you’ve found both! We are thrilled to announce that Codeup has been chosen as a Best Data Science Bootcamp of 2021 by Course Report,... \\nRead More \\n\\n\\n\\n\\n\\n\\n\\n\\nCodeup Launches First Podcast: Hire Tech\\n\\nAny podcast enthusiasts out there? We are pleased to announce the release of Codeup’s first podcast, Hire Tech! Hire Tech is a conversation with new developers and the people that hire them, hosted by our CEO and Co-Founder, Jason Straughan.\\xa0 In a world where... \\nRead More \\n\\n\\n\\n\\n\\n\\n\\n\\nCodeup Takes Over More of the Historic Vogue Building\\n\\nCodeup is moving into another floor of our Historic Vogue building in Downtown San Antonio! We’ve gone from a humble beginning in the middle of a coworking space called Geekdom, to now having three floors of our own in our favorite downtown building. Why San Antonio?... \\nRead More \\n\\n\\n\\n\\n\\n\\n\\n\\nCoding: The New Literacy\\n\\nThe other day, I was talking to an opthamologist about taking classes at Codeup. The more we talked about the opportunities that lay ahead, the more excited he got. He told me something worth noting: \"I wish I were young enough to do this. This field is very... \\nRead More \\n\\n\\n\\n\\n\\n\\n\\n\\n\\n\\nFrom Speech Pathology to Business Intelligence\\nOct 18, 2021 | Alumni StoriesBy: Alicia Gonzalez Before Codeup, I was a home health Speech-Language Pathologist Assistant. I would go from home to...\\n\\n\\n\\n\\n\\n\\nBoris – Behind the Billboards\\nOct 3, 2021 | Behind the Billboards\\n\\n\\n\\nIs Codeup the Best Bootcamp in San Antonio…or the World?\\nSep 16, 2021 | Codeup News, FeaturedLooking for the best data science bootcamp in the world? Or how about the best coding bootcamp in San Antonio? If...\\n\\n\\n\\n \\n\\n\\n\\n\\n\\n\\n\\n\\n\\n\\n\\n\\nCodeup Launches First Podcast: Hire Tech\\nAug 25, 2021 | Codeup News, FeaturedAny podcast enthusiasts out there? We are pleased to announce the release of Codeup’s first podcast, Hire Tech! Hire...\\nread more\\n\\n\\n\\nWhy Should I Become a System Administrator?\\nAug 23, 2021 | Tips for Prospective StudentsWith so many tech careers in demand, why choose system administration? System administrators are a key component of...\\nread more\\n\\n\\n\\nAnnouncing our Candidacy for Accreditation!\\nJun 30, 2021 | Codeup NewsDid you know that even though we’re an independent school, we have multiple regulating bodies that verify our...\\nread more\\n\\n\\n\\nCodeup Takes Over More of the Historic Vogue Building\\nJun 21, 2021 | Codeup News, FeaturedCodeup is moving into another floor of our Historic Vogue building in Downtown San Antonio! We’ve gone from a humble...\\nread more\\n\\n\\n\\nInclusion at Codeup During Pride Month (and Always)\\nJun 4, 2021 | Codeup NewsHappy Pride Month! Pride Month is a dedicated time to celebrate and support the LGBTQIA+ community. At Codeup, one of...\\nread more\\n\\n\\n\\nWhy You Need the Best Coding Bootcamp Instructors\\nMay 21, 2021 | Tips for Prospective StudentsOne of the many reasons students love Codeup is our focus on people. With live interaction every day, the best coding...\\nread more\\n\\n\\n\\nMeet the new Codeup COO, Stephen Noteboom!\\nMay 3, 2021 | Codeup NewsA big welcome to Stephen Noteboom, who will be joining Codeup as the Chief Operating Officer to run our business....\\nread more\\n\\n\\n\\nHow I Went From Codeup to Business Owner\\nApr 30, 2021 | Alumni StoriesOut of college, I was a bit of a mess. That’s what I would have told you, anyway. On the surface, I was put together....\\nread more\\n\\n\\n\\nCoding is for Women\\nApr 27, 2021 | Tips for Prospective StudentsIn a world where 91.5% of developers are male, it’s important to remember that coding is for women, too. Our first...\\nread more\\n\\n\\n\\nCodeup Acquires Rackspace Cloud Academy!\\nApr 16, 2021 | Codeup NewsWe are thrilled to officially announce Codeup’s acquisition of Rackspace Cloud Academy!\\xa0 What was Rackspace Cloud...\\nread more\\n\\n\\n\\nWhat are the Best Jobs in 2021?\\nApr 13, 2021 | Tips for Prospective StudentsEvery year, Glassdoor names the 50 Best Jobs in America. The year is 2021 and would you look at that? The top 2 Best...\\nread more\\n\\n\\n\\nMeet our new VP of Delivery, Marty Sixkiller!\\nApr 12, 2021 | Codeup NewsMarty Sixkiller will be joining Codeup as the Vice President of Delivery to lead our instructional staff, program...\\nread more\\n\\n\\n\\nStart a New Career with VET TEC!\\nApr 5, 2021 | Codeup NewsAre you a veteran looking for your next career? We’re excited to announce that you can now use VET TEC to fund your...\\nread more\\n\\n\\n\\nHow to Hire for the Long Haul; We’ve Got Your Back\\nApr 1, 2021 | Codeup News, EmployersWe’re preaching to the choir to say that recruiting, hiring, and training employees costs companies a lot of time,...\\nread more\\n\\n\\n\\nDo You Know Who You’re Hiring?\\nMar 23, 2021 | Codeup News, EmployersHiring developers is always a lottery - it’s just a question of what kind of odds you play with. Until we perfect...\\nread more\\n\\n\\n« Older Entries\\n\\n\\n\\n\\n\\n\\n \\n\\n'"
      ]
     },
     "execution_count": 35,
     "metadata": {},
     "output_type": "execute_result"
    }
   ],
   "source": [
    "article = soup.find('div', id='main-content')\n",
    "article.text"
   ]
  },
  {
   "cell_type": "code",
   "execution_count": null,
   "id": "2d01bc6f",
   "metadata": {},
   "outputs": [],
   "source": []
  }
 ],
 "metadata": {
  "kernelspec": {
   "display_name": "Python 3",
   "language": "python",
   "name": "python3"
  },
  "language_info": {
   "codemirror_mode": {
    "name": "ipython",
    "version": 3
   },
   "file_extension": ".py",
   "mimetype": "text/x-python",
   "name": "python",
   "nbconvert_exporter": "python",
   "pygments_lexer": "ipython3",
   "version": "3.8.8"
  }
 },
 "nbformat": 4,
 "nbformat_minor": 5
}
